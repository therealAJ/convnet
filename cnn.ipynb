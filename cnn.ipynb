{
 "cells": [
  {
   "cell_type": "markdown",
   "metadata": {},
   "source": [
    "#### Import Libraries"
   ]
  },
  {
   "cell_type": "code",
   "execution_count": 5,
   "metadata": {
    "collapsed": true
   },
   "outputs": [],
   "source": [
    "import numpy as np"
   ]
  },
  {
   "cell_type": "markdown",
   "metadata": {},
   "source": [
    "#### CNN Class with Convolutional, RELU, Max Pooling, Dense (Fully-Connected), and Softmax (Prediction) Layers"
   ]
  },
  {
   "cell_type": "code",
   "execution_count": 10,
   "metadata": {
    "collapsed": false
   },
   "outputs": [],
   "source": [
    "class CNN:\n",
    "    def __init__(self):\n",
    "        self.layers = []\n",
    "        self.pool_size = None\n",
    "\n",
    "    def load_weights(self, weights):\n",
    "        for x in range(len(weights)):\n",
    "            self.layers.append(weights[x])\n",
    "    \n",
    "    def predict(self, X):\n",
    "        h = self.convolution_layer(X, layer_i=0, border=\"full\"); X=h\n",
    "        h = self.relu_layer(X); X=h\n",
    "        h = self.maxpooling_layer(X); X=h\n",
    "        h = self.flatten_layer(X, layer_i=4); X=h\n",
    "        h = self.dense_layer(X, layer_i=5); X=h\n",
    "        h = self.softmax_layer(X); X=h\n",
    "        max_i = self.classify(X)\n",
    "        return max_i[0]\n",
    "    \n",
    "    "
   ]
  }
 ],
 "metadata": {
  "kernelspec": {
   "display_name": "Python 3",
   "language": "python",
   "name": "python3"
  },
  "language_info": {
   "codemirror_mode": {
    "name": "ipython",
    "version": 3
   },
   "file_extension": ".py",
   "mimetype": "text/x-python",
   "name": "python",
   "nbconvert_exporter": "python",
   "pygments_lexer": "ipython3",
   "version": "3.6.0"
  }
 },
 "nbformat": 4,
 "nbformat_minor": 2
}
